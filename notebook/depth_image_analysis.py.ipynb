{
 "cells": [
  {
   "cell_type": "code",
   "execution_count": 1,
   "id": "7867f029",
   "metadata": {},
   "outputs": [],
   "source": [
    "import os\n",
    "import cv2\n",
    "import sys\n",
    "import csv\n",
    "\n",
    "import numpy as np\n",
    "import pandas as pd\n",
    "import matplotlib.pyplot as plt\n",
    "import plotly.graph_objects as go"
   ]
  },
  {
   "cell_type": "code",
   "execution_count": 2,
   "id": "315b4379",
   "metadata": {},
   "outputs": [],
   "source": [
    "root = \"/home/yanglei/DataSets/DAIR-V2X/Rope3D-KITTI-v2/training\""
   ]
  },
  {
   "cell_type": "code",
   "execution_count": 26,
   "id": "fabf37de",
   "metadata": {},
   "outputs": [],
   "source": [
    "def load_depth(idx):\n",
    "    img_filename = os.path.join(root, \"depth\", \"{:06d}\".format(idx) + \".jpg\")\n",
    "    isexist = True\n",
    "    disp_img = cv2.imread(img_filename, cv2.IMREAD_UNCHANGED)\n",
    "    if disp_img is None:\n",
    "        isexist = False\n",
    "        disp_img = np.zeros((370, 1224))\n",
    "    else:\n",
    "        disp_img = disp_img.astype(np.float)\n",
    "    # return disp_img / 256.0, isexist\n",
    "    return disp_img, isexist\n",
    "\n",
    "def load_lidar(file_path):\n",
    "    pc = np.fromfile(str(file_path), dtype=np.float32).reshape([-1, 4])\n",
    "    return pc\n",
    "\n",
    "def load_calib(idx):\n",
    "    calib_name = os.path.join(root, \"calib\", \"{:06d}\".format(idx) + \".txt\")\n",
    "    with open(calib_name, 'r') as csv_file:\n",
    "            reader = csv.reader(csv_file, delimiter=' ')\n",
    "            for line, row in enumerate(reader):\n",
    "                if row[0] == 'P2:':\n",
    "                    P2 = row[1:]\n",
    "                    P2 = [float(i) for i in P2]\n",
    "                    P2 = np.array(P2, dtype=np.float32).reshape(3, 4)\n",
    "                    break\n",
    "    return P2\n",
    "\n",
    "def inverse_rigid_trans(Tr):\n",
    "    \"\"\" Inverse a rigid body transform matrix (3x4 as [R|t])\n",
    "        [R'|-R't; 0|1]\n",
    "    \"\"\"\n",
    "    inv_Tr = np.zeros_like(Tr)  # 3x4\n",
    "    inv_Tr[0:3, 0:3] = np.transpose(Tr[0:3, 0:3])\n",
    "    inv_Tr[0:3, 3] = np.dot(-np.transpose(Tr[0:3, 0:3]), Tr[0:3, 3])\n",
    "    return inv_Tr\n",
    "\n",
    "def get_depth_pt3d(depth):\n",
    "    pt3d = []\n",
    "    for i in range(depth.shape[0]):\n",
    "        for j in range(depth.shape[1]):\n",
    "            if depth[i, j] > 25 and depth[i, j] < 50:\n",
    "                pt3d.append([i, j, depth[i, j]])\n",
    "    return np.array(pt3d)\n",
    "\n",
    "class Calibration(object):\n",
    "    def __init__(self, P):\n",
    "        # Projection matrix from rect camera coord to image coord\n",
    "        self.P = np.reshape(P[:3, :], [3, 4])\n",
    "        \n",
    "        # Rigid transform from Velodyne coord to reference camera coord\n",
    "        self.V2C = np.zeros((3, 4))\n",
    "        self.V2C = np.reshape(self.V2C, [3, 4])\n",
    "        self.C2V = inverse_rigid_trans(self.V2C)\n",
    "        \n",
    "        # Rotation from reference camera coord to rect camera coord\n",
    "        self.R0 = np.zeros((3, 3))\n",
    "        self.R0 = np.reshape(self.R0, [3, 3])\n",
    "\n",
    "        # Camera intrinsics and extrinsics\n",
    "        self.c_u = self.P[0, 2]\n",
    "        self.c_v = self.P[1, 2]\n",
    "        self.f_u = self.P[0, 0]\n",
    "        self.f_v = self.P[1, 1]\n",
    "        self.b_x = self.P[0, 3] / (-self.f_u)  # relative\n",
    "        self.b_y = self.P[1, 3] / (-self.f_v)\n",
    "    \n",
    "    def project_image_to_rect(self, uv_depth):\n",
    "        \"\"\" Input: nx3 first two channels are uv, 3rd channel\n",
    "                   is depth in rect camera coord.\n",
    "            Output: nx3 points in rect camera coord.\n",
    "        \"\"\"\n",
    "        n = uv_depth.shape[0]\n",
    "        x = ((uv_depth[:, 0] - self.c_u) * uv_depth[:, 2]) / self.f_u + self.b_x\n",
    "        y = ((uv_depth[:, 1] - self.c_v) * uv_depth[:, 2]) / self.f_v + self.b_y\n",
    "        \n",
    "        if isinstance(uv_depth, np.ndarray):\n",
    "            pts_3d_rect = np.zeros((n, 3))\n",
    "        else:\n",
    "            # torch.Tensor or torch.cuda.Tensor\n",
    "            pts_3d_rect = uv_depth.new(uv_depth.shape).zero_()\n",
    "\n",
    "        pts_3d_rect[:, 0] = x\n",
    "        pts_3d_rect[:, 1] = y\n",
    "        pts_3d_rect[:, 2] = uv_depth[:, 2]\n",
    "\n",
    "        return pts_3d_rect\n",
    "\n",
    "    def get_calib(self):\n",
    "        return self.P\n",
    "    \n",
    "    def project_depth_to_rect(self, depth, constraint_box=False):\n",
    "        depth_pt3d = get_depth_pt3d(depth)\n",
    "        print(depth_pt3d.shape)\n",
    "        depth_UVDepth = np.zeros_like(depth_pt3d)\n",
    "        depth_UVDepth[:, 0] = depth_pt3d[:, 1]\n",
    "        depth_UVDepth[:, 1] = depth_pt3d[:, 0]\n",
    "        depth_UVDepth[:, 2] = depth_pt3d[:, 2]\n",
    "        # print(\"depth_pt3d:\",depth_UVDepth.shape)\n",
    "        depth_pc_rect = self.project_image_to_rect(depth_UVDepth)\n",
    "        # print(\"dep_pc_velo:\",depth_pc_velo.shape)\n",
    "        if constraint_box:\n",
    "            depth_box_fov_inds = (\n",
    "                (depth_pc_velo[:, 0] < cbox[0][1])\n",
    "                & (depth_pc_velo[:, 0] >= cbox[0][0])\n",
    "                & (depth_pc_velo[:, 1] < cbox[1][1])\n",
    "                & (depth_pc_velo[:, 1] >= cbox[1][0])\n",
    "                & (depth_pc_velo[:, 2] < cbox[2][1])\n",
    "                & (depth_pc_velo[:, 2] >= cbox[2][0])\n",
    "            )\n",
    "            depth_pc_rect = depth_pc_rect[depth_box_fov_inds]\n",
    "        return depth_pc_rect"
   ]
  },
  {
   "cell_type": "code",
   "execution_count": 27,
   "id": "b266427e",
   "metadata": {},
   "outputs": [
    {
     "name": "stderr",
     "output_type": "stream",
     "text": [
      "/home/yanglei/anaconda3/envs/RSU/lib/python3.7/site-packages/ipykernel_launcher.py:9: DeprecationWarning:\n",
      "\n",
      "`np.float` is a deprecated alias for the builtin `float`. To silence this warning, use `float` by itself. Doing this will not modify any behavior and is safe. If you specifically wanted the numpy scalar type, use `np.float64` here.\n",
      "Deprecated in NumPy 1.20; for more details and guidance: https://numpy.org/devdocs/release/1.20.0-notes.html#deprecations\n",
      "\n"
     ]
    },
    {
     "name": "stdout",
     "output_type": "stream",
     "text": [
      "(642783, 3)\n"
     ]
    }
   ],
   "source": [
    "depth, _ = load_depth(10)\n",
    "P2 = load_calib(10)\n",
    "calib = Calibration(P2)\n",
    "pc = calib.project_depth_to_rect(depth)"
   ]
  },
  {
   "cell_type": "code",
   "execution_count": 28,
   "id": "6516e678",
   "metadata": {},
   "outputs": [],
   "source": [
    "df_tmp = pd.DataFrame(pc[:, :3], columns=[\"x\", \"y\", \"z\"])\n",
    "df_tmp[\"norm\"] = np.sqrt(np.power(df_tmp[[\"x\", \"y\", \"z\"]].values, 2).sum(axis=1))\n",
    "\n",
    "scatter = go.Scatter3d(\n",
    "    x=df_tmp[\"x\"],\n",
    "    y=df_tmp[\"y\"],\n",
    "    z=df_tmp[\"z\"],\n",
    "    mode=\"markers\",\n",
    "    marker=dict(size=1, color=df_tmp[\"norm\"], opacity=0.8),\n",
    ")\n",
    "fig = go.Figure(data=[scatter])\n",
    "fig.update_layout(scene_aspectmode=\"data\")\n",
    "fig.show()"
   ]
  },
  {
   "cell_type": "code",
   "execution_count": 15,
   "id": "34858431",
   "metadata": {},
   "outputs": [
    {
     "data": {
      "text/plain": [
       "(125770, 4)"
      ]
     },
     "execution_count": 15,
     "metadata": {},
     "output_type": "execute_result"
    }
   ],
   "source": [
    "lidar_path = \"/home/yanglei/DataSets/KITTI/training/velodyne/000327.bin\"\n",
    "pc = load_lidar(lidar_path)\n",
    "pc.shape"
   ]
  },
  {
   "cell_type": "code",
   "execution_count": 29,
   "id": "e0c54949",
   "metadata": {},
   "outputs": [],
   "source": [
    "df_tmp = pd.DataFrame(pc[:, :3], columns=[\"x\", \"y\", \"z\"])\n",
    "df_tmp[\"norm\"] = np.sqrt(np.power(df_tmp[[\"x\", \"y\", \"z\"]].values, 2).sum(axis=1))\n",
    "\n",
    "scatter = go.Scatter3d(\n",
    "    x=df_tmp[\"x\"],\n",
    "    y=df_tmp[\"y\"],\n",
    "    z=df_tmp[\"z\"],\n",
    "    mode=\"markers\",\n",
    "    marker=dict(size=1, color=df_tmp[\"norm\"], opacity=0.8),\n",
    ")\n",
    "fig = go.Figure(data=[scatter])\n",
    "fig.update_layout(scene_aspectmode=\"data\")\n",
    "fig.show()"
   ]
  },
  {
   "cell_type": "code",
   "execution_count": null,
   "id": "d0f2ab03",
   "metadata": {},
   "outputs": [],
   "source": []
  }
 ],
 "metadata": {
  "kernelspec": {
   "display_name": "Python 3 (ipykernel)",
   "language": "python",
   "name": "python3"
  },
  "language_info": {
   "codemirror_mode": {
    "name": "ipython",
    "version": 3
   },
   "file_extension": ".py",
   "mimetype": "text/x-python",
   "name": "python",
   "nbconvert_exporter": "python",
   "pygments_lexer": "ipython3",
   "version": "3.7.13"
  }
 },
 "nbformat": 4,
 "nbformat_minor": 5
}
